{
 "cells": [
  {
   "cell_type": "code",
   "execution_count": 33,
   "metadata": {},
   "outputs": [],
   "source": [
    "from tensorflow.python.keras.applications import ResNet50\n",
    "from tensorflow.python.keras.models import Sequential\n",
    "from tensorflow.python.keras.layers import Dense, Flatten, GlobalAveragePooling2D\n",
    "from keras.applications.resnet50 import preprocess_input\n",
    "#from keras.preprocessing.image import ImageDataGenerator\n",
    "from keras_preprocessing.image import ImageDataGenerator\n",
    "import pandas as pd \n",
    "import numpy as np \n",
    "import os \n",
    "from matplotlib import pyplot as plt\n",
    "from math import ceil"
   ]
  },
  {
   "cell_type": "code",
   "execution_count": 2,
   "metadata": {},
   "outputs": [
    {
     "data": {
      "text/html": [
       "<div>\n",
       "<style>\n",
       "    .dataframe thead tr:only-child th {\n",
       "        text-align: right;\n",
       "    }\n",
       "\n",
       "    .dataframe thead th {\n",
       "        text-align: left;\n",
       "    }\n",
       "\n",
       "    .dataframe tbody tr th {\n",
       "        vertical-align: top;\n",
       "    }\n",
       "</style>\n",
       "<table border=\"1\" class=\"dataframe\">\n",
       "  <thead>\n",
       "    <tr style=\"text-align: right;\">\n",
       "      <th></th>\n",
       "      <th>Target</th>\n",
       "      <th>Attractiveness</th>\n",
       "    </tr>\n",
       "  </thead>\n",
       "  <tbody>\n",
       "    <tr>\n",
       "      <th>0</th>\n",
       "      <td>AF-200</td>\n",
       "      <td>1.143804</td>\n",
       "    </tr>\n",
       "    <tr>\n",
       "      <th>1</th>\n",
       "      <td>AF-201</td>\n",
       "      <td>-0.157090</td>\n",
       "    </tr>\n",
       "    <tr>\n",
       "      <th>2</th>\n",
       "      <td>AF-202</td>\n",
       "      <td>-0.301633</td>\n",
       "    </tr>\n",
       "    <tr>\n",
       "      <th>3</th>\n",
       "      <td>AF-203</td>\n",
       "      <td>0.057234</td>\n",
       "    </tr>\n",
       "    <tr>\n",
       "      <th>4</th>\n",
       "      <td>AF-204</td>\n",
       "      <td>-0.077341</td>\n",
       "    </tr>\n",
       "  </tbody>\n",
       "</table>\n",
       "</div>"
      ],
      "text/plain": [
       "   Target  Attractiveness\n",
       "0  AF-200        1.143804\n",
       "1  AF-201       -0.157090\n",
       "2  AF-202       -0.301633\n",
       "3  AF-203        0.057234\n",
       "4  AF-204       -0.077341"
      ]
     },
     "metadata": {},
     "output_type": "display_data"
    }
   ],
   "source": [
    "# get attractiveness ratings for each image \n",
    "ratings_df = pd.read_excel(\"../CFD 2 Codebook.xlsx\")\n",
    "ratings_df[\"Attractiveness\"] = (ratings_df[\"Attractive\"]-ratings_df[\"Attractive\"].mean())/ratings_df[\"Attractive\"].std()\n",
    "\n",
    "#attractiveness_dict = ratings_df.set_index('Target')['Attractiveness'].to_dict() \n",
    "\n",
    "attractiveness_df = ratings_df[[\"Target\",\"Attractiveness\"]]\n",
    "display(attractiveness_df.head())"
   ]
  },
  {
   "cell_type": "code",
   "execution_count": 3,
   "metadata": {
    "collapsed": true
   },
   "outputs": [],
   "source": [
    "# Prepare dataframe to feed in to imagedatagenerator \n",
    "\n",
    "image_files = os.listdir('C:/Users/Shoya/Aphrodite/All CFD Images/')\n",
    "\n",
    "image_df = pd.DataFrame(image_files, columns=[\"Image File Names\"])\n",
    "image_df[\"Target ID\"] = image_df[\"Image File Names\"].str.slice(4,10)\n",
    "data_df = pd.merge(image_df, attractiveness_df, left_on=\"Target ID\", right_on=\"Target\")[[\"Image File Names\",\"Target ID\",\"Attractiveness\"]]\n",
    "data_df = data_df.sample(frac=1).reset_index(drop=True)\n"
   ]
  },
  {
   "cell_type": "code",
   "execution_count": 4,
   "metadata": {},
   "outputs": [
    {
     "data": {
      "text/html": [
       "<div>\n",
       "<style>\n",
       "    .dataframe thead tr:only-child th {\n",
       "        text-align: right;\n",
       "    }\n",
       "\n",
       "    .dataframe thead th {\n",
       "        text-align: left;\n",
       "    }\n",
       "\n",
       "    .dataframe tbody tr th {\n",
       "        vertical-align: top;\n",
       "    }\n",
       "</style>\n",
       "<table border=\"1\" class=\"dataframe\">\n",
       "  <thead>\n",
       "    <tr style=\"text-align: right;\">\n",
       "      <th></th>\n",
       "      <th>Image File Names</th>\n",
       "      <th>Target ID</th>\n",
       "      <th>Attractiveness</th>\n",
       "    </tr>\n",
       "  </thead>\n",
       "  <tbody>\n",
       "    <tr>\n",
       "      <th>0</th>\n",
       "      <td>CFD-WM-022-012-F.jpg</td>\n",
       "      <td>WM-022</td>\n",
       "      <td>-0.443035</td>\n",
       "    </tr>\n",
       "    <tr>\n",
       "      <th>1</th>\n",
       "      <td>CFD-BF-008-012-A.jpg</td>\n",
       "      <td>BF-008</td>\n",
       "      <td>-0.211917</td>\n",
       "    </tr>\n",
       "    <tr>\n",
       "      <th>2</th>\n",
       "      <td>CFD-BF-009-008-HC.jpg</td>\n",
       "      <td>BF-009</td>\n",
       "      <td>-0.598577</td>\n",
       "    </tr>\n",
       "    <tr>\n",
       "      <th>3</th>\n",
       "      <td>CFD-BF-212-315-N.jpg</td>\n",
       "      <td>BF-212</td>\n",
       "      <td>1.779797</td>\n",
       "    </tr>\n",
       "    <tr>\n",
       "      <th>4</th>\n",
       "      <td>CFD-LM-234-176-N.jpg</td>\n",
       "      <td>LM-234</td>\n",
       "      <td>0.180179</td>\n",
       "    </tr>\n",
       "  </tbody>\n",
       "</table>\n",
       "</div>"
      ],
      "text/plain": [
       "        Image File Names Target ID  Attractiveness\n",
       "0   CFD-WM-022-012-F.jpg    WM-022       -0.443035\n",
       "1   CFD-BF-008-012-A.jpg    BF-008       -0.211917\n",
       "2  CFD-BF-009-008-HC.jpg    BF-009       -0.598577\n",
       "3   CFD-BF-212-315-N.jpg    BF-212        1.779797\n",
       "4   CFD-LM-234-176-N.jpg    LM-234        0.180179"
      ]
     },
     "execution_count": 4,
     "metadata": {},
     "output_type": "execute_result"
    }
   ],
   "source": [
    "data_df.head()"
   ]
  },
  {
   "cell_type": "code",
   "execution_count": 5,
   "metadata": {},
   "outputs": [
    {
     "data": {
      "text/html": [
       "<div>\n",
       "<style>\n",
       "    .dataframe thead tr:only-child th {\n",
       "        text-align: right;\n",
       "    }\n",
       "\n",
       "    .dataframe thead th {\n",
       "        text-align: left;\n",
       "    }\n",
       "\n",
       "    .dataframe tbody tr th {\n",
       "        vertical-align: top;\n",
       "    }\n",
       "</style>\n",
       "<table border=\"1\" class=\"dataframe\">\n",
       "  <thead>\n",
       "    <tr style=\"text-align: right;\">\n",
       "      <th></th>\n",
       "      <th>Attractiveness</th>\n",
       "    </tr>\n",
       "  </thead>\n",
       "  <tbody>\n",
       "    <tr>\n",
       "      <th>count</th>\n",
       "      <td>1207.000000</td>\n",
       "    </tr>\n",
       "    <tr>\n",
       "      <th>mean</th>\n",
       "      <td>-0.051699</td>\n",
       "    </tr>\n",
       "    <tr>\n",
       "      <th>std</th>\n",
       "      <td>0.965902</td>\n",
       "    </tr>\n",
       "    <tr>\n",
       "      <th>min</th>\n",
       "      <td>-2.226956</td>\n",
       "    </tr>\n",
       "    <tr>\n",
       "      <th>25%</th>\n",
       "      <td>-0.701908</td>\n",
       "    </tr>\n",
       "    <tr>\n",
       "      <th>50%</th>\n",
       "      <td>-0.201565</td>\n",
       "    </tr>\n",
       "    <tr>\n",
       "      <th>75%</th>\n",
       "      <td>0.586782</td>\n",
       "    </tr>\n",
       "    <tr>\n",
       "      <th>max</th>\n",
       "      <td>2.922321</td>\n",
       "    </tr>\n",
       "  </tbody>\n",
       "</table>\n",
       "</div>"
      ],
      "text/plain": [
       "       Attractiveness\n",
       "count     1207.000000\n",
       "mean        -0.051699\n",
       "std          0.965902\n",
       "min         -2.226956\n",
       "25%         -0.701908\n",
       "50%         -0.201565\n",
       "75%          0.586782\n",
       "max          2.922321"
      ]
     },
     "execution_count": 5,
     "metadata": {},
     "output_type": "execute_result"
    }
   ],
   "source": [
    "data_df.describe()"
   ]
  },
  {
   "cell_type": "code",
   "execution_count": 6,
   "metadata": {
    "collapsed": true
   },
   "outputs": [],
   "source": [
    "train_df = data_df.iloc[:1020]\n",
    "test_df = data_df.iloc[1020:]"
   ]
  },
  {
   "cell_type": "code",
   "execution_count": 50,
   "metadata": {},
   "outputs": [
    {
     "name": "stdout",
     "output_type": "stream",
     "text": [
      "_________________________________________________________________\n",
      "Layer (type)                 Output Shape              Param #   \n",
      "=================================================================\n",
      "resnet50 (Model)             (None, 2048)              23587712  \n",
      "_________________________________________________________________\n",
      "dense_1 (Dense)              (None, 512)               1049088   \n",
      "_________________________________________________________________\n",
      "dense_2 (Dense)              (None, 256)               131328    \n",
      "_________________________________________________________________\n",
      "dense_3 (Dense)              (None, 1)                 257       \n",
      "=================================================================\n",
      "Total params: 24,768,385\n",
      "Trainable params: 1,180,673\n",
      "Non-trainable params: 23,587,712\n",
      "_________________________________________________________________\n"
     ]
    }
   ],
   "source": [
    "# Make Model \n",
    "\n",
    "base_model = ResNet50(include_top=False, pooling='avg')\n",
    "model = Sequential()\n",
    "model.add(base_model)\n",
    "model.add(Dense(512,activation='relu'))\n",
    "model.add(Dense(256,activation='relu'))\n",
    "model.add(Dense(1,))\n",
    "model.layers[0].trainable=False \n",
    "model.summary()"
   ]
  },
  {
   "cell_type": "code",
   "execution_count": 51,
   "metadata": {},
   "outputs": [
    {
     "name": "stdout",
     "output_type": "stream",
     "text": [
      "Found 1020 images.\n",
      "Found 187 images.\n"
     ]
    }
   ],
   "source": [
    "# Make ImageDataGenerator \n",
    "\n",
    "train_datagen= ImageDataGenerator(preprocessing_function=preprocess_input)\n",
    "\n",
    "train_generator=train_datagen.flow_from_dataframe(\n",
    "                                                dataframe=train_df,\n",
    "                                                directory= 'C:/Users/Shoya/Aphrodite/All CFD Images/',\n",
    "                                                x_col='Image File Names',\n",
    "                                                y_col='Attractiveness',\n",
    "                                                class_mode='other'\n",
    "                                                )\n",
    "\n",
    "test_datagen = ImageDataGenerator(preprocessing_function=preprocess_input)\n",
    "\n",
    "test_generator = test_datagen.flow_from_dataframe(\n",
    "                                                dataframe=test_df,\n",
    "                                                directory= 'C:/Users/Shoya/Aphrodite/All CFD Images/',\n",
    "                                                x_col='Image File Names',\n",
    "                                                y_col='Attractiveness',\n",
    "                                                class_mode='other'\n",
    "                                                )\n"
   ]
  },
  {
   "cell_type": "code",
   "execution_count": 52,
   "metadata": {},
   "outputs": [],
   "source": [
    "# Compile Model \n",
    "model.compile(optimizer='Adam',loss='mean_squared_error',metrics=['mse'])"
   ]
  },
  {
   "cell_type": "code",
   "execution_count": 77,
   "metadata": {},
   "outputs": [
    {
     "name": "stdout",
     "output_type": "stream",
     "text": [
      "Epoch 1/5\n",
      "6/6 [==============================] - 94s 16s/step - loss: 0.4719 - mean_squared_error: 0.4752\n",
      "32/32 [==============================] - 1064s 33s/step - loss: 0.5074 - mean_squared_error: 0.5077 - val_loss: 0.4719 - val_mean_squared_error: 0.4752\n",
      "Epoch 2/5\n",
      "6/6 [==============================] - 91s 15s/step - loss: 0.5870 - mean_squared_error: 0.5901\n",
      "32/32 [==============================] - 1238s 39s/step - loss: 0.3692 - mean_squared_error: 0.3691 - val_loss: 0.5870 - val_mean_squared_error: 0.5901\n",
      "Epoch 3/5\n",
      "6/6 [==============================] - 95s 16s/step - loss: 0.4753 - mean_squared_error: 0.4742\n",
      "32/32 [==============================] - 1247s 39s/step - loss: 0.5314 - mean_squared_error: 0.5322 - val_loss: 0.4753 - val_mean_squared_error: 0.4742\n",
      "Epoch 4/5\n",
      "6/6 [==============================] - 98s 16s/step - loss: 0.3769 - mean_squared_error: 0.3736\n",
      "32/32 [==============================] - 1215s 38s/step - loss: 0.3996 - mean_squared_error: 0.3981 - val_loss: 0.3769 - val_mean_squared_error: 0.3736\n",
      "Epoch 5/5\n",
      "6/6 [==============================] - 62s 10s/step - loss: 0.4643 - mean_squared_error: 0.4608\n",
      "32/32 [==============================] - 1039s 32s/step - loss: 0.2682 - mean_squared_error: 0.2679 - val_loss: 0.4643 - val_mean_squared_error: 0.4608\n"
     ]
    }
   ],
   "source": [
    "n_train = len(train_generator.filenames)\n",
    "n_test = len(test_generator.filenames)\n",
    "\n",
    "steps_per_epoch_train = ceil(n_train/32) # batch_size of 32 used as default \n",
    "steps_per_epoch_test = ceil(n_test/32)\n",
    "\n",
    "history = model.fit_generator(generator=train_generator,steps_per_epoch=steps_per_epoch_train, epochs=5,validation_data=test_generator, validation_steps=steps_per_epoch_test)"
   ]
  },
  {
   "cell_type": "code",
   "execution_count": 78,
   "metadata": {},
   "outputs": [
    {
     "name": "stdout",
     "output_type": "stream",
     "text": [
      "dict_keys(['mean_squared_error', 'val_loss', 'val_mean_squared_error', 'loss'])\n"
     ]
    },
    {
     "data": {
      "image/png": "[encoded data removed]",
      "text/plain": [
       "<matplotlib.figure.Figure at 0x20cae16eda0>"
      ]
     },
     "metadata": {},
     "output_type": "display_data"
    }
   ],
   "source": [
    "print(history.history.keys())\n",
    "plt.plot(history.history['mean_squared_error'],label=\"train\")\n",
    "plt.plot(history.history['val_mean_squared_error'],label=\"test\")\n",
    "plt.legend()\n",
    "plt.show();"
   ]
  },
  {
   "cell_type": "code",
   "execution_count": 64,
   "metadata": {
    "collapsed": true
   },
   "outputs": [],
   "source": [
    "loss = model.evaluate_generator(generator=test_generator)"
   ]
  },
  {
   "cell_type": "code",
   "execution_count": 65,
   "metadata": {},
   "outputs": [
    {
     "name": "stdout",
     "output_type": "stream",
     "text": [
      "[1.4136118193467457, 1.4282455]\n"
     ]
    }
   ],
   "source": [
    "print(loss)"
   ]
  },
  {
   "cell_type": "code",
   "execution_count": 79,
   "metadata": {
    "collapsed": true
   },
   "outputs": [],
   "source": [
    "# Now Prepare Employee \n",
    "\n",
    "goldman_image_files = os.listdir('C:/Users/Shoya/Aphrodite/Goldman Employees/photos_cropped/')\n",
    "rbc_image_files = os.listdir('C:/Users/Shoya/Aphrodite/RBC Employees/photos_cropped/')\n",
    "\n",
    "goldman_df = pd.DataFrame(goldman_image_files, columns=[\"Image File Names\"])\n",
    "goldman_df[\"class\"] = np.nan\n",
    "\n",
    "# You know I had to try.... \n",
    "goldman_df.append({\"Image File Names\":\"Shoya.jpeg\",\"class\":np.nan},ignore_index=True)\n",
    "\n",
    "rbc_df = pd.DataFrame(rbc_image_files, columns=[\"Image File Names\"])\n",
    "rbc_df[\"class\"] = np.nan"
   ]
  },
  {
   "cell_type": "code",
   "execution_count": 80,
   "metadata": {},
   "outputs": [
    {
     "name": "stdout",
     "output_type": "stream",
     "text": [
      "Found 76 images.\n",
      "Found 52 images.\n"
     ]
    }
   ],
   "source": [
    "goldman_datagen = ImageDataGenerator(preprocessing_function=preprocess_input)\n",
    "\n",
    "goldman_generator = goldman_datagen.flow_from_dataframe(\n",
    "                                                dataframe=goldman_df,\n",
    "                                                directory= 'C:/Users/Shoya/Aphrodite/Goldman Employees/photos_cropped/',\n",
    "                                                x_col='Image File Names',\n",
    "                                                batch_size=1,\n",
    "                                                class_mode='other'\n",
    "                                                )\n",
    "rbc_datagen = ImageDataGenerator(preprocessing_function=preprocess_input)\n",
    "\n",
    "rbc_generator = rbc_datagen.flow_from_dataframe(\n",
    "                                                dataframe=rbc_df,\n",
    "                                                directory= 'C:/Users/Shoya/Aphrodite/RBC Employees/photos_cropped/',\n",
    "                                                x_col='Image File Names',\n",
    "                                                batch_size=1,\n",
    "                                                class_mode='other'\n",
    "                                                )\n",
    "\n"
   ]
  },
  {
   "cell_type": "code",
   "execution_count": 81,
   "metadata": {
    "collapsed": true
   },
   "outputs": [],
   "source": [
    "n_goldman = len(goldman_generator.filenames)\n",
    "n_rbc = len(rbc_generator.filenames) "
   ]
  },
  {
   "cell_type": "code",
   "execution_count": 82,
   "metadata": {
    "collapsed": true
   },
   "outputs": [],
   "source": [
    "goldman_predictions = model.predict_generator(goldman_generator,steps=n_goldman)\n",
    "rbc_predictions = model.predict_generator(rbc_generator,steps=n_rbc)"
   ]
  },
  {
   "cell_type": "code",
   "execution_count": 83,
   "metadata": {
    "collapsed": true
   },
   "outputs": [],
   "source": [
    "goldman_df[\"Pred\"] = goldman_predictions\n",
    "rbc_df[\"Pred\"] = rbc_predictions"
   ]
  },
  {
   "cell_type": "code",
   "execution_count": 84,
   "metadata": {},
   "outputs": [
    {
     "data": {
      "text/html": [
       "<div>\n",
       "<style>\n",
       "    .dataframe thead tr:only-child th {\n",
       "        text-align: right;\n",
       "    }\n",
       "\n",
       "    .dataframe thead th {\n",
       "        text-align: left;\n",
       "    }\n",
       "\n",
       "    .dataframe tbody tr th {\n",
       "        vertical-align: top;\n",
       "    }\n",
       "</style>\n",
       "<table border=\"1\" class=\"dataframe\">\n",
       "  <thead>\n",
       "    <tr style=\"text-align: right;\">\n",
       "      <th></th>\n",
       "      <th>class</th>\n",
       "      <th>Pred</th>\n",
       "    </tr>\n",
       "  </thead>\n",
       "  <tbody>\n",
       "    <tr>\n",
       "      <th>count</th>\n",
       "      <td>0.0</td>\n",
       "      <td>76.000000</td>\n",
       "    </tr>\n",
       "    <tr>\n",
       "      <th>mean</th>\n",
       "      <td>NaN</td>\n",
       "      <td>0.031874</td>\n",
       "    </tr>\n",
       "    <tr>\n",
       "      <th>std</th>\n",
       "      <td>NaN</td>\n",
       "      <td>0.776052</td>\n",
       "    </tr>\n",
       "    <tr>\n",
       "      <th>min</th>\n",
       "      <td>NaN</td>\n",
       "      <td>-2.637702</td>\n",
       "    </tr>\n",
       "    <tr>\n",
       "      <th>25%</th>\n",
       "      <td>NaN</td>\n",
       "      <td>-0.338865</td>\n",
       "    </tr>\n",
       "    <tr>\n",
       "      <th>50%</th>\n",
       "      <td>NaN</td>\n",
       "      <td>-0.025073</td>\n",
       "    </tr>\n",
       "    <tr>\n",
       "      <th>75%</th>\n",
       "      <td>NaN</td>\n",
       "      <td>0.499471</td>\n",
       "    </tr>\n",
       "    <tr>\n",
       "      <th>max</th>\n",
       "      <td>NaN</td>\n",
       "      <td>1.500715</td>\n",
       "    </tr>\n",
       "  </tbody>\n",
       "</table>\n",
       "</div>"
      ],
      "text/plain": [
       "       class       Pred\n",
       "count    0.0  76.000000\n",
       "mean     NaN   0.031874\n",
       "std      NaN   0.776052\n",
       "min      NaN  -2.637702\n",
       "25%      NaN  -0.338865\n",
       "50%      NaN  -0.025073\n",
       "75%      NaN   0.499471\n",
       "max      NaN   1.500715"
      ]
     },
     "execution_count": 84,
     "metadata": {},
     "output_type": "execute_result"
    }
   ],
   "source": [
    "goldman_df.describe()"
   ]
  },
  {
   "cell_type": "code",
   "execution_count": 85,
   "metadata": {},
   "outputs": [
    {
     "data": {
      "text/html": [
       "<div>\n",
       "<style>\n",
       "    .dataframe thead tr:only-child th {\n",
       "        text-align: right;\n",
       "    }\n",
       "\n",
       "    .dataframe thead th {\n",
       "        text-align: left;\n",
       "    }\n",
       "\n",
       "    .dataframe tbody tr th {\n",
       "        vertical-align: top;\n",
       "    }\n",
       "</style>\n",
       "<table border=\"1\" class=\"dataframe\">\n",
       "  <thead>\n",
       "    <tr style=\"text-align: right;\">\n",
       "      <th></th>\n",
       "      <th>class</th>\n",
       "      <th>Pred</th>\n",
       "    </tr>\n",
       "  </thead>\n",
       "  <tbody>\n",
       "    <tr>\n",
       "      <th>count</th>\n",
       "      <td>0.0</td>\n",
       "      <td>52.000000</td>\n",
       "    </tr>\n",
       "    <tr>\n",
       "      <th>mean</th>\n",
       "      <td>NaN</td>\n",
       "      <td>0.375627</td>\n",
       "    </tr>\n",
       "    <tr>\n",
       "      <th>std</th>\n",
       "      <td>NaN</td>\n",
       "      <td>0.651346</td>\n",
       "    </tr>\n",
       "    <tr>\n",
       "      <th>min</th>\n",
       "      <td>NaN</td>\n",
       "      <td>-0.816990</td>\n",
       "    </tr>\n",
       "    <tr>\n",
       "      <th>25%</th>\n",
       "      <td>NaN</td>\n",
       "      <td>-0.144072</td>\n",
       "    </tr>\n",
       "    <tr>\n",
       "      <th>50%</th>\n",
       "      <td>NaN</td>\n",
       "      <td>0.399802</td>\n",
       "    </tr>\n",
       "    <tr>\n",
       "      <th>75%</th>\n",
       "      <td>NaN</td>\n",
       "      <td>0.731252</td>\n",
       "    </tr>\n",
       "    <tr>\n",
       "      <th>max</th>\n",
       "      <td>NaN</td>\n",
       "      <td>1.880518</td>\n",
       "    </tr>\n",
       "  </tbody>\n",
       "</table>\n",
       "</div>"
      ],
      "text/plain": [
       "       class       Pred\n",
       "count    0.0  52.000000\n",
       "mean     NaN   0.375627\n",
       "std      NaN   0.651346\n",
       "min      NaN  -0.816990\n",
       "25%      NaN  -0.144072\n",
       "50%      NaN   0.399802\n",
       "75%      NaN   0.731252\n",
       "max      NaN   1.880518"
      ]
     },
     "execution_count": 85,
     "metadata": {},
     "output_type": "execute_result"
    }
   ],
   "source": [
    "rbc_df.describe()"
   ]
  },
  {
   "cell_type": "code",
   "execution_count": 88,
   "metadata": {
    "scrolled": true
   },
   "outputs": [],
   "source": [
    "#goldman_df.sort_values(\"Pred\", ascending=False)"
   ]
  },
  {
   "cell_type": "code",
   "execution_count": 89,
   "metadata": {
    "scrolled": true
   },
   "outputs": [],
   "source": [
    "#rbc_df.sort_values(\"Pred\",ascending=False)"
   ]
  },
  {
   "cell_type": "code",
   "execution_count": 72,
   "metadata": {
    "collapsed": true
   },
   "outputs": [],
   "source": [
    "#goldman_df.to_excel(\"Goldman Predictions.xlsx\")"
   ]
  },
  {
   "cell_type": "code",
   "execution_count": null,
   "metadata": {
    "collapsed": true
   },
   "outputs": [],
   "source": []
  }
 ],
 "metadata": {
  "kernelspec": {
   "display_name": "Python [conda env:tensorflow]",
   "language": "python",
   "name": "conda-env-tensorflow-py"
  },
  "language_info": {
   "codemirror_mode": {
    "name": "ipython",
    "version": 3
   },
   "file_extension": ".py",
   "mimetype": "text/x-python",
   "name": "python",
   "nbconvert_exporter": "python",
   "pygments_lexer": "ipython3",
   "version": "3.5.4"
  }
 },
 "nbformat": 4,
 "nbformat_minor": 2
}
